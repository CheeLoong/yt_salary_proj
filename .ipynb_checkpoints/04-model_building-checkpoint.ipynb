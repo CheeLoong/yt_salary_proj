{
 "cells": [
  {
   "cell_type": "code",
   "execution_count": 51,
   "metadata": {
    "ExecuteTime": {
     "end_time": "2021-04-16T21:04:13.044570Z",
     "start_time": "2021-04-16T21:04:13.040286Z"
    }
   },
   "outputs": [],
   "source": [
    "from sklearn.model_selection import train_test_split\n",
    "\n",
    "from sklearn.pipeline import Pipeline\n",
    "from sklearn.preprocessing import Normalizer, OneHotEncoder, StandardScaler, LabelEncoder, RobustScaler, MinMaxScaler, OrdinalEncoder\n",
    "from sklearn.impute import SimpleImputer\n",
    "\n",
    "from sklearn.compose import ColumnTransformer\n",
    "from sklearn.pipeline import make_pipeline\n",
    "\n",
    "# from sklearn.linear_model import LogisticRegression\n",
    "from sklearn.linear_model import LinearRegression\n",
    "from sklearn.ensemble import RandomForestRegressor\n",
    "from sklearn.metrics import mean_squared_error\n",
    "from sklearn.model_selection import cross_val_score"
   ]
  },
  {
   "cell_type": "markdown",
   "metadata": {},
   "source": [
    "## Model Builidng"
   ]
  },
  {
   "cell_type": "markdown",
   "metadata": {
    "ExecuteTime": {
     "end_time": "2021-04-16T16:53:57.439170Z",
     "start_time": "2021-04-16T16:53:57.434229Z"
    }
   },
   "source": [
    "### Defining the Data Preprocessing pipeline \n",
    "1. Categorical Features\n",
    "  * Impute missing values with Mode\n",
    "  * One Hot Encoded\n",
    "  \n",
    "2. Numerical Features\n",
    "  * Impute missing values with Median\n",
    "  * Scaling with RobustScaler \n",
    "  \n",
    "Note that eventhough our training data does not having missing values, there is no guarantee that real life data will be complete as well. By defining the default imputing strategy would be useful for handling edge cases, especially when the model is in a production environment."
   ]
  },
  {
   "cell_type": "code",
   "execution_count": 2,
   "metadata": {
    "ExecuteTime": {
     "end_time": "2021-04-16T16:58:37.008969Z",
     "start_time": "2021-04-16T16:58:36.976319Z"
    }
   },
   "outputs": [],
   "source": [
    "df = pd.read_csv('data/glassdoor_job_cleaned2.csv')"
   ]
  },
  {
   "cell_type": "code",
   "execution_count": 10,
   "metadata": {
    "ExecuteTime": {
     "end_time": "2021-04-16T17:09:34.740185Z",
     "start_time": "2021-04-16T17:09:34.736161Z"
    }
   },
   "outputs": [],
   "source": [
    "categorical_transformer = Pipeline(steps=[\n",
    "    ('imputer', SimpleImputer(strategy='most_frequent')),\n",
    "    ('onehot', OneHotEncoder(handle_unknown=\"ignore\"))\n",
    "])\n",
    "\n",
    "numeric_transformer = Pipeline(steps=[\n",
    "    ('imputer', SimpleImputer(strategy='median')),\n",
    "    ('scaler', RobustScaler())\n",
    "])"
   ]
  },
  {
   "cell_type": "code",
   "execution_count": 21,
   "metadata": {
    "ExecuteTime": {
     "end_time": "2021-04-16T19:28:22.028570Z",
     "start_time": "2021-04-16T19:28:22.024506Z"
    }
   },
   "outputs": [],
   "source": [
    "# numerical = [i for i in df.select_dtypes(include=['number']).columns.values.tolist() if i not in ['min_salary','max_salary', 'avg_salary']]\n",
    "# categorical = df.select_dtypes(include=['object', 'category']).columns.values.tolist()\n",
    "target_label = ['avg_salary']\n",
    "\n",
    "categorical = [\n",
    "#  'Job Title', # high cardinality\n",
    "#  'Salary Estimate', # dependant variable\n",
    "#  'Job Description', # high cardinality\n",
    "#  'Company Name', # high cardinality\n",
    "#  'Location', # high cardinality\n",
    "#  'Headquarters', # high cardinality\n",
    " 'Size',\n",
    " 'Type of ownership',\n",
    "#  'Industry', # this is highly correlated to sector and has a high cardinality\n",
    " 'Sector',\n",
    " 'Revenue',\n",
    "#  'company_txt', # high cardinality, parsed of company name\n",
    " 'job_state',\n",
    " 'job_simp', # derived from Job title\n",
    " 'seniority']\n",
    "\n",
    "numerical = [\n",
    " 'Rating',\n",
    "# 'Founded',\n",
    " 'hourly',\n",
    " 'employer_provided',\n",
    " 'is_loc_hq',\n",
    " 'comp_age', # from Founded\n",
    " 'python_yn',\n",
    " 'r_yn',\n",
    " 'sas_yn',\n",
    " 'excel_yn',\n",
    " 'pp_yn',\n",
    " 'sql_yn',\n",
    " 'spark_yn',\n",
    " 'aws_yn',\n",
    " 'desc_len']"
   ]
  },
  {
   "cell_type": "markdown",
   "metadata": {},
   "source": [
    "### Train/Validation Split"
   ]
  },
  {
   "cell_type": "code",
   "execution_count": 27,
   "metadata": {
    "ExecuteTime": {
     "end_time": "2021-04-16T19:30:29.654407Z",
     "start_time": "2021-04-16T19:30:29.645895Z"
    }
   },
   "outputs": [],
   "source": [
    "df_x = df[numerical + categorical]\n",
    "df_y = df[target_label]\n",
    "\n",
    "x_train, x_val, y_train, y_val = train_test_split(df_x, df_y, test_size=0.2, shuffle=True, random_state=42)"
   ]
  },
  {
   "cell_type": "code",
   "execution_count": 62,
   "metadata": {
    "ExecuteTime": {
     "end_time": "2021-04-16T21:06:14.884701Z",
     "start_time": "2021-04-16T21:06:14.879401Z"
    }
   },
   "outputs": [
    {
     "data": {
      "text/plain": [
       "(373,)"
      ]
     },
     "execution_count": 62,
     "metadata": {},
     "output_type": "execute_result"
    }
   ],
   "source": [
    "np.ravel(y_train).shape"
   ]
  },
  {
   "cell_type": "markdown",
   "metadata": {},
   "source": [
    "### Simple Model - Logistic Regression"
   ]
  },
  {
   "cell_type": "code",
   "execution_count": 34,
   "metadata": {
    "ExecuteTime": {
     "end_time": "2021-04-16T20:03:38.819863Z",
     "start_time": "2021-04-16T20:03:38.816719Z"
    }
   },
   "outputs": [],
   "source": [
    "preprocessor = ColumnTransformer(\n",
    "    transformers=[\n",
    "        ('cat', categorical_transformer, categorical),\n",
    "        ('num', numeric_transformer, numerical),\n",
    "    ],\n",
    "    remainder='drop',\n",
    ")"
   ]
  },
  {
   "cell_type": "code",
   "execution_count": 52,
   "metadata": {
    "ExecuteTime": {
     "end_time": "2021-04-16T21:04:23.707381Z",
     "start_time": "2021-04-16T21:04:23.704179Z"
    }
   },
   "outputs": [],
   "source": [
    "# make pipeline for linear regression\n",
    "pipe_reg = make_pipeline(\n",
    "    preprocessor,\n",
    "    LinearRegression()\n",
    ")\n",
    "\n",
    "# make pipeline for RF\n",
    "pipe_rf = make_pipeline(\n",
    "    preprocessor,\n",
    "    RandomForestRegressor()\n",
    ")"
   ]
  },
  {
   "cell_type": "code",
   "execution_count": 63,
   "metadata": {
    "ExecuteTime": {
     "end_time": "2021-04-16T21:06:22.265729Z",
     "start_time": "2021-04-16T21:06:21.608221Z"
    }
   },
   "outputs": [],
   "source": [
    "model_reg = pipe_reg.fit(x_train, y_train)\n",
    "model_rf = pipe_rf.fit(x_train, np.ravel(y_train))"
   ]
  },
  {
   "cell_type": "code",
   "execution_count": 64,
   "metadata": {
    "ExecuteTime": {
     "end_time": "2021-04-16T21:07:01.830211Z",
     "start_time": "2021-04-16T21:07:01.804092Z"
    }
   },
   "outputs": [
    {
     "name": "stdout",
     "output_type": "stream",
     "text": [
      "RMSE on train data:  28.280581353151963\n",
      "RMSE on val data:  45.033430823692356\n"
     ]
    }
   ],
   "source": [
    "# predict the target on train and test data \n",
    "reg_pred_train = model_reg.predict(x_train)\n",
    "reg_pred_val  = model_reg.predict(x_val)\n",
    "\n",
    "# Root Mean Squared Error on train and val data\n",
    "print('RMSE on train data: ', mean_squared_error(y_train, reg_pred_train)**(0.5))\n",
    "print('RMSE on val data: ',  mean_squared_error(y_val, reg_pred_val)**(0.5))"
   ]
  },
  {
   "cell_type": "code",
   "execution_count": 65,
   "metadata": {
    "ExecuteTime": {
     "end_time": "2021-04-16T21:07:29.657994Z",
     "start_time": "2021-04-16T21:07:29.605448Z"
    }
   },
   "outputs": [
    {
     "name": "stdout",
     "output_type": "stream",
     "text": [
      "RMSE on train data:  14.018554355561745\n",
      "RMSE on val data:  49.9013186651543\n"
     ]
    }
   ],
   "source": [
    "# predict the target on train and test data \n",
    "rf_pred_train = model_rf.predict(x_train)\n",
    "rf_pred_val  = model_rf.predict(x_val)\n",
    "\n",
    "# Root Mean Squared Error on train and val data\n",
    "print('RMSE on train data: ', mean_squared_error(y_train, rf_pred_train)**(0.5))\n",
    "print('RMSE on val data: ',  mean_squared_error(y_val, rf_pred_val)**(0.5))"
   ]
  },
  {
   "cell_type": "code",
   "execution_count": 50,
   "metadata": {
    "ExecuteTime": {
     "end_time": "2021-04-16T21:01:12.839018Z",
     "start_time": "2021-04-16T21:01:12.668103Z"
    }
   },
   "outputs": [
    {
     "data": {
      "text/plain": [
       "-32.564728211839565"
      ]
     },
     "execution_count": 50,
     "metadata": {},
     "output_type": "execute_result"
    }
   ],
   "source": [
    "np.mean(cross_val_score(model_reg, x_train, y_train, scoring = 'neg_mean_absolute_error', cv = 3))"
   ]
  },
  {
   "cell_type": "code",
   "execution_count": 41,
   "metadata": {
    "ExecuteTime": {
     "end_time": "2021-04-16T20:07:16.395108Z",
     "start_time": "2021-04-16T20:07:16.380329Z"
    }
   },
   "outputs": [
    {
     "name": "stdout",
     "output_type": "stream",
     "text": [
      "0.3780281977737837\n"
     ]
    }
   ],
   "source": [
    "accuracy_score = pipe_reg.score(x_val, y_val)\n",
    "print(accuracy_score)"
   ]
  },
  {
   "cell_type": "code",
   "execution_count": 44,
   "metadata": {
    "ExecuteTime": {
     "end_time": "2021-04-16T20:29:06.076724Z",
     "start_time": "2021-04-16T20:29:06.073021Z"
    }
   },
   "outputs": [
    {
     "data": {
      "text/plain": [
       "sklearn.pipeline.Pipeline"
      ]
     },
     "execution_count": 44,
     "metadata": {},
     "output_type": "execute_result"
    }
   ],
   "source": [
    "type(pipe_reg)"
   ]
  },
  {
   "cell_type": "code",
   "execution_count": null,
   "metadata": {},
   "outputs": [],
   "source": []
  }
 ],
 "metadata": {
  "hide_input": false,
  "kernelspec": {
   "display_name": "Python 3",
   "language": "python",
   "name": "python3"
  },
  "language_info": {
   "codemirror_mode": {
    "name": "ipython",
    "version": 3
   },
   "file_extension": ".py",
   "mimetype": "text/x-python",
   "name": "python",
   "nbconvert_exporter": "python",
   "pygments_lexer": "ipython3",
   "version": "3.6.3"
  },
  "toc": {
   "base_numbering": 1,
   "nav_menu": {},
   "number_sections": true,
   "sideBar": true,
   "skip_h1_title": false,
   "title_cell": "Table of Contents",
   "title_sidebar": "Contents",
   "toc_cell": false,
   "toc_position": {},
   "toc_section_display": true,
   "toc_window_display": false
  },
  "varInspector": {
   "cols": {
    "lenName": 16,
    "lenType": 16,
    "lenVar": 40
   },
   "kernels_config": {
    "python": {
     "delete_cmd_postfix": "",
     "delete_cmd_prefix": "del ",
     "library": "var_list.py",
     "varRefreshCmd": "print(var_dic_list())"
    },
    "r": {
     "delete_cmd_postfix": ") ",
     "delete_cmd_prefix": "rm(",
     "library": "var_list.r",
     "varRefreshCmd": "cat(var_dic_list()) "
    }
   },
   "types_to_exclude": [
    "module",
    "function",
    "builtin_function_or_method",
    "instance",
    "_Feature"
   ],
   "window_display": false
  }
 },
 "nbformat": 4,
 "nbformat_minor": 2
}
